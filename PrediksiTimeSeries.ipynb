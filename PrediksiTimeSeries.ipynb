{
  "cells": [
    {
      "cell_type": "markdown",
      "metadata": {
        "id": "8WzrEZfpSWy0"
      },
      "source": [
        "Andi Nur Salsabila"
      ]
    },
    {
      "cell_type": "code",
      "execution_count": 14,
      "metadata": {
        "id": "7eoCCVXISS4i"
      },
      "outputs": [],
      "source": [
        "import pandas as pd\n",
        "import os\n",
        "import matplotlib.pyplot as plt\n",
        "import tensorflow as tf\n",
        "import numpy as np"
      ]
    },
    {
      "cell_type": "code",
      "execution_count": 2,
      "metadata": {
        "colab": {
          "base_uri": "https://localhost:8080/"
        },
        "id": "hjfLwzjlT7Cx",
        "outputId": "93e017b0-51da-4f36-96ff-aab1a8b3327a"
      },
      "outputs": [
        {
          "output_type": "stream",
          "name": "stdout",
          "text": [
            "Downloading apple-stock-data-updated-till-22jun2021.zip to /content\n",
            "\r  0% 0.00/205k [00:00<?, ?B/s]\n",
            "\r100% 205k/205k [00:00<00:00, 33.9MB/s]\n"
          ]
        }
      ],
      "source": [
        "# mengakses kaggle\n",
        "os.environ['KAGGLE_USERNAME'] = \"andinursalsabila\"\n",
        "os.environ['KAGGLE_KEY'] = \"32050edd6e02f12f21dd3a78eaaba64e\"\n",
        "\n",
        "# copy API command dataset untuk mendownloadnya\n",
        "!kaggle datasets download -d varpit94/apple-stock-data-updated-till-22jun2021"
      ]
    },
    {
      "cell_type": "code",
      "execution_count": 3,
      "metadata": {
        "id": "IZ5tK9kcWeFB"
      },
      "outputs": [],
      "source": [
        "# unzip dataset yang telah didownload\n",
        "!unzip -q /content/apple-stock-data-updated-till-22jun2021.zip"
      ]
    },
    {
      "cell_type": "code",
      "execution_count": 3,
      "metadata": {
        "colab": {
          "base_uri": "https://localhost:8080/",
          "height": 300
        },
        "id": "tyBV9WQuWmT0",
        "outputId": "1dbcae49-c7cb-402d-b1f8-93bce040cfca"
      },
      "outputs": [
        {
          "output_type": "execute_result",
          "data": {
            "text/plain": [
              "               Open          High           Low         Close     Adj Close  \\\n",
              "count  10409.000000  10409.000000  10409.000000  10409.000000  10409.000000   \n",
              "mean      13.959910     14.111936     13.809163     13.966757     13.350337   \n",
              "std       30.169244     30.514878     29.835055     30.191696     29.911132   \n",
              "min        0.049665      0.049665      0.049107      0.049107      0.038384   \n",
              "25%        0.281964      0.287946      0.274554      0.281250      0.234799   \n",
              "50%        0.468750      0.477679      0.459821      0.468750      0.386853   \n",
              "75%       14.217857     14.364286     14.043571     14.206071     12.188149   \n",
              "max      182.630005    182.940002    179.119995    182.009995    181.778397   \n",
              "\n",
              "             Volume  \n",
              "count  1.040900e+04  \n",
              "mean   3.321778e+08  \n",
              "std    3.393344e+08  \n",
              "min    0.000000e+00  \n",
              "25%    1.247604e+08  \n",
              "50%    2.199680e+08  \n",
              "75%    4.126108e+08  \n",
              "max    7.421641e+09  "
            ],
            "text/html": [
              "\n",
              "  <div id=\"df-031660cd-93c5-4ad0-a41f-de3c55966c3a\">\n",
              "    <div class=\"colab-df-container\">\n",
              "      <div>\n",
              "<style scoped>\n",
              "    .dataframe tbody tr th:only-of-type {\n",
              "        vertical-align: middle;\n",
              "    }\n",
              "\n",
              "    .dataframe tbody tr th {\n",
              "        vertical-align: top;\n",
              "    }\n",
              "\n",
              "    .dataframe thead th {\n",
              "        text-align: right;\n",
              "    }\n",
              "</style>\n",
              "<table border=\"1\" class=\"dataframe\">\n",
              "  <thead>\n",
              "    <tr style=\"text-align: right;\">\n",
              "      <th></th>\n",
              "      <th>Open</th>\n",
              "      <th>High</th>\n",
              "      <th>Low</th>\n",
              "      <th>Close</th>\n",
              "      <th>Adj Close</th>\n",
              "      <th>Volume</th>\n",
              "    </tr>\n",
              "  </thead>\n",
              "  <tbody>\n",
              "    <tr>\n",
              "      <th>count</th>\n",
              "      <td>10409.000000</td>\n",
              "      <td>10409.000000</td>\n",
              "      <td>10409.000000</td>\n",
              "      <td>10409.000000</td>\n",
              "      <td>10409.000000</td>\n",
              "      <td>1.040900e+04</td>\n",
              "    </tr>\n",
              "    <tr>\n",
              "      <th>mean</th>\n",
              "      <td>13.959910</td>\n",
              "      <td>14.111936</td>\n",
              "      <td>13.809163</td>\n",
              "      <td>13.966757</td>\n",
              "      <td>13.350337</td>\n",
              "      <td>3.321778e+08</td>\n",
              "    </tr>\n",
              "    <tr>\n",
              "      <th>std</th>\n",
              "      <td>30.169244</td>\n",
              "      <td>30.514878</td>\n",
              "      <td>29.835055</td>\n",
              "      <td>30.191696</td>\n",
              "      <td>29.911132</td>\n",
              "      <td>3.393344e+08</td>\n",
              "    </tr>\n",
              "    <tr>\n",
              "      <th>min</th>\n",
              "      <td>0.049665</td>\n",
              "      <td>0.049665</td>\n",
              "      <td>0.049107</td>\n",
              "      <td>0.049107</td>\n",
              "      <td>0.038384</td>\n",
              "      <td>0.000000e+00</td>\n",
              "    </tr>\n",
              "    <tr>\n",
              "      <th>25%</th>\n",
              "      <td>0.281964</td>\n",
              "      <td>0.287946</td>\n",
              "      <td>0.274554</td>\n",
              "      <td>0.281250</td>\n",
              "      <td>0.234799</td>\n",
              "      <td>1.247604e+08</td>\n",
              "    </tr>\n",
              "    <tr>\n",
              "      <th>50%</th>\n",
              "      <td>0.468750</td>\n",
              "      <td>0.477679</td>\n",
              "      <td>0.459821</td>\n",
              "      <td>0.468750</td>\n",
              "      <td>0.386853</td>\n",
              "      <td>2.199680e+08</td>\n",
              "    </tr>\n",
              "    <tr>\n",
              "      <th>75%</th>\n",
              "      <td>14.217857</td>\n",
              "      <td>14.364286</td>\n",
              "      <td>14.043571</td>\n",
              "      <td>14.206071</td>\n",
              "      <td>12.188149</td>\n",
              "      <td>4.126108e+08</td>\n",
              "    </tr>\n",
              "    <tr>\n",
              "      <th>max</th>\n",
              "      <td>182.630005</td>\n",
              "      <td>182.940002</td>\n",
              "      <td>179.119995</td>\n",
              "      <td>182.009995</td>\n",
              "      <td>181.778397</td>\n",
              "      <td>7.421641e+09</td>\n",
              "    </tr>\n",
              "  </tbody>\n",
              "</table>\n",
              "</div>\n",
              "      <button class=\"colab-df-convert\" onclick=\"convertToInteractive('df-031660cd-93c5-4ad0-a41f-de3c55966c3a')\"\n",
              "              title=\"Convert this dataframe to an interactive table.\"\n",
              "              style=\"display:none;\">\n",
              "        \n",
              "  <svg xmlns=\"http://www.w3.org/2000/svg\" height=\"24px\"viewBox=\"0 0 24 24\"\n",
              "       width=\"24px\">\n",
              "    <path d=\"M0 0h24v24H0V0z\" fill=\"none\"/>\n",
              "    <path d=\"M18.56 5.44l.94 2.06.94-2.06 2.06-.94-2.06-.94-.94-2.06-.94 2.06-2.06.94zm-11 1L8.5 8.5l.94-2.06 2.06-.94-2.06-.94L8.5 2.5l-.94 2.06-2.06.94zm10 10l.94 2.06.94-2.06 2.06-.94-2.06-.94-.94-2.06-.94 2.06-2.06.94z\"/><path d=\"M17.41 7.96l-1.37-1.37c-.4-.4-.92-.59-1.43-.59-.52 0-1.04.2-1.43.59L10.3 9.45l-7.72 7.72c-.78.78-.78 2.05 0 2.83L4 21.41c.39.39.9.59 1.41.59.51 0 1.02-.2 1.41-.59l7.78-7.78 2.81-2.81c.8-.78.8-2.07 0-2.86zM5.41 20L4 18.59l7.72-7.72 1.47 1.35L5.41 20z\"/>\n",
              "  </svg>\n",
              "      </button>\n",
              "      \n",
              "  <style>\n",
              "    .colab-df-container {\n",
              "      display:flex;\n",
              "      flex-wrap:wrap;\n",
              "      gap: 12px;\n",
              "    }\n",
              "\n",
              "    .colab-df-convert {\n",
              "      background-color: #E8F0FE;\n",
              "      border: none;\n",
              "      border-radius: 50%;\n",
              "      cursor: pointer;\n",
              "      display: none;\n",
              "      fill: #1967D2;\n",
              "      height: 32px;\n",
              "      padding: 0 0 0 0;\n",
              "      width: 32px;\n",
              "    }\n",
              "\n",
              "    .colab-df-convert:hover {\n",
              "      background-color: #E2EBFA;\n",
              "      box-shadow: 0px 1px 2px rgba(60, 64, 67, 0.3), 0px 1px 3px 1px rgba(60, 64, 67, 0.15);\n",
              "      fill: #174EA6;\n",
              "    }\n",
              "\n",
              "    [theme=dark] .colab-df-convert {\n",
              "      background-color: #3B4455;\n",
              "      fill: #D2E3FC;\n",
              "    }\n",
              "\n",
              "    [theme=dark] .colab-df-convert:hover {\n",
              "      background-color: #434B5C;\n",
              "      box-shadow: 0px 1px 3px 1px rgba(0, 0, 0, 0.15);\n",
              "      filter: drop-shadow(0px 1px 2px rgba(0, 0, 0, 0.3));\n",
              "      fill: #FFFFFF;\n",
              "    }\n",
              "  </style>\n",
              "\n",
              "      <script>\n",
              "        const buttonEl =\n",
              "          document.querySelector('#df-031660cd-93c5-4ad0-a41f-de3c55966c3a button.colab-df-convert');\n",
              "        buttonEl.style.display =\n",
              "          google.colab.kernel.accessAllowed ? 'block' : 'none';\n",
              "\n",
              "        async function convertToInteractive(key) {\n",
              "          const element = document.querySelector('#df-031660cd-93c5-4ad0-a41f-de3c55966c3a');\n",
              "          const dataTable =\n",
              "            await google.colab.kernel.invokeFunction('convertToInteractive',\n",
              "                                                     [key], {});\n",
              "          if (!dataTable) return;\n",
              "\n",
              "          const docLinkHtml = 'Like what you see? Visit the ' +\n",
              "            '<a target=\"_blank\" href=https://colab.research.google.com/notebooks/data_table.ipynb>data table notebook</a>'\n",
              "            + ' to learn more about interactive tables.';\n",
              "          element.innerHTML = '';\n",
              "          dataTable['output_type'] = 'display_data';\n",
              "          await google.colab.output.renderOutput(dataTable, element);\n",
              "          const docLink = document.createElement('div');\n",
              "          docLink.innerHTML = docLinkHtml;\n",
              "          element.appendChild(docLink);\n",
              "        }\n",
              "      </script>\n",
              "    </div>\n",
              "  </div>\n",
              "  "
            ]
          },
          "metadata": {},
          "execution_count": 3
        }
      ],
      "source": [
        "data = pd.read_csv('AAPL.csv', parse_dates=[\"Date\"])\n",
        "data.describe()"
      ]
    },
    {
      "cell_type": "code",
      "execution_count": 4,
      "metadata": {
        "colab": {
          "base_uri": "https://localhost:8080/"
        },
        "id": "6h6dZxM2YCAy",
        "outputId": "d79026ab-950d-47ff-933a-dcd067ebd200"
      },
      "outputs": [
        {
          "output_type": "execute_result",
          "data": {
            "text/plain": [
              "Date         0\n",
              "Open         0\n",
              "High         0\n",
              "Low          0\n",
              "Close        0\n",
              "Adj Close    0\n",
              "Volume       0\n",
              "dtype: int64"
            ]
          },
          "metadata": {},
          "execution_count": 4
        }
      ],
      "source": [
        "data.isnull().sum()"
      ]
    },
    {
      "cell_type": "code",
      "execution_count": 5,
      "metadata": {
        "colab": {
          "base_uri": "https://localhost:8080/",
          "height": 206
        },
        "id": "qry3njphYlmH",
        "outputId": "1a971232-724b-4e1c-8e58-89fe8e08aac4"
      },
      "outputs": [
        {
          "output_type": "execute_result",
          "data": {
            "text/plain": [
              "        Date      Open      High       Low     Close  Adj Close     Volume\n",
              "0 1980-12-12  0.128348  0.128906  0.128348  0.128348   0.100323  469033600\n",
              "1 1980-12-15  0.122210  0.122210  0.121652  0.121652   0.095089  175884800\n",
              "2 1980-12-16  0.113281  0.113281  0.112723  0.112723   0.088110  105728000\n",
              "3 1980-12-17  0.115513  0.116071  0.115513  0.115513   0.090291   86441600\n",
              "4 1980-12-18  0.118862  0.119420  0.118862  0.118862   0.092908   73449600"
            ],
            "text/html": [
              "\n",
              "  <div id=\"df-fa7828b9-735a-408c-907e-426d97728dd2\">\n",
              "    <div class=\"colab-df-container\">\n",
              "      <div>\n",
              "<style scoped>\n",
              "    .dataframe tbody tr th:only-of-type {\n",
              "        vertical-align: middle;\n",
              "    }\n",
              "\n",
              "    .dataframe tbody tr th {\n",
              "        vertical-align: top;\n",
              "    }\n",
              "\n",
              "    .dataframe thead th {\n",
              "        text-align: right;\n",
              "    }\n",
              "</style>\n",
              "<table border=\"1\" class=\"dataframe\">\n",
              "  <thead>\n",
              "    <tr style=\"text-align: right;\">\n",
              "      <th></th>\n",
              "      <th>Date</th>\n",
              "      <th>Open</th>\n",
              "      <th>High</th>\n",
              "      <th>Low</th>\n",
              "      <th>Close</th>\n",
              "      <th>Adj Close</th>\n",
              "      <th>Volume</th>\n",
              "    </tr>\n",
              "  </thead>\n",
              "  <tbody>\n",
              "    <tr>\n",
              "      <th>0</th>\n",
              "      <td>1980-12-12</td>\n",
              "      <td>0.128348</td>\n",
              "      <td>0.128906</td>\n",
              "      <td>0.128348</td>\n",
              "      <td>0.128348</td>\n",
              "      <td>0.100323</td>\n",
              "      <td>469033600</td>\n",
              "    </tr>\n",
              "    <tr>\n",
              "      <th>1</th>\n",
              "      <td>1980-12-15</td>\n",
              "      <td>0.122210</td>\n",
              "      <td>0.122210</td>\n",
              "      <td>0.121652</td>\n",
              "      <td>0.121652</td>\n",
              "      <td>0.095089</td>\n",
              "      <td>175884800</td>\n",
              "    </tr>\n",
              "    <tr>\n",
              "      <th>2</th>\n",
              "      <td>1980-12-16</td>\n",
              "      <td>0.113281</td>\n",
              "      <td>0.113281</td>\n",
              "      <td>0.112723</td>\n",
              "      <td>0.112723</td>\n",
              "      <td>0.088110</td>\n",
              "      <td>105728000</td>\n",
              "    </tr>\n",
              "    <tr>\n",
              "      <th>3</th>\n",
              "      <td>1980-12-17</td>\n",
              "      <td>0.115513</td>\n",
              "      <td>0.116071</td>\n",
              "      <td>0.115513</td>\n",
              "      <td>0.115513</td>\n",
              "      <td>0.090291</td>\n",
              "      <td>86441600</td>\n",
              "    </tr>\n",
              "    <tr>\n",
              "      <th>4</th>\n",
              "      <td>1980-12-18</td>\n",
              "      <td>0.118862</td>\n",
              "      <td>0.119420</td>\n",
              "      <td>0.118862</td>\n",
              "      <td>0.118862</td>\n",
              "      <td>0.092908</td>\n",
              "      <td>73449600</td>\n",
              "    </tr>\n",
              "  </tbody>\n",
              "</table>\n",
              "</div>\n",
              "      <button class=\"colab-df-convert\" onclick=\"convertToInteractive('df-fa7828b9-735a-408c-907e-426d97728dd2')\"\n",
              "              title=\"Convert this dataframe to an interactive table.\"\n",
              "              style=\"display:none;\">\n",
              "        \n",
              "  <svg xmlns=\"http://www.w3.org/2000/svg\" height=\"24px\"viewBox=\"0 0 24 24\"\n",
              "       width=\"24px\">\n",
              "    <path d=\"M0 0h24v24H0V0z\" fill=\"none\"/>\n",
              "    <path d=\"M18.56 5.44l.94 2.06.94-2.06 2.06-.94-2.06-.94-.94-2.06-.94 2.06-2.06.94zm-11 1L8.5 8.5l.94-2.06 2.06-.94-2.06-.94L8.5 2.5l-.94 2.06-2.06.94zm10 10l.94 2.06.94-2.06 2.06-.94-2.06-.94-.94-2.06-.94 2.06-2.06.94z\"/><path d=\"M17.41 7.96l-1.37-1.37c-.4-.4-.92-.59-1.43-.59-.52 0-1.04.2-1.43.59L10.3 9.45l-7.72 7.72c-.78.78-.78 2.05 0 2.83L4 21.41c.39.39.9.59 1.41.59.51 0 1.02-.2 1.41-.59l7.78-7.78 2.81-2.81c.8-.78.8-2.07 0-2.86zM5.41 20L4 18.59l7.72-7.72 1.47 1.35L5.41 20z\"/>\n",
              "  </svg>\n",
              "      </button>\n",
              "      \n",
              "  <style>\n",
              "    .colab-df-container {\n",
              "      display:flex;\n",
              "      flex-wrap:wrap;\n",
              "      gap: 12px;\n",
              "    }\n",
              "\n",
              "    .colab-df-convert {\n",
              "      background-color: #E8F0FE;\n",
              "      border: none;\n",
              "      border-radius: 50%;\n",
              "      cursor: pointer;\n",
              "      display: none;\n",
              "      fill: #1967D2;\n",
              "      height: 32px;\n",
              "      padding: 0 0 0 0;\n",
              "      width: 32px;\n",
              "    }\n",
              "\n",
              "    .colab-df-convert:hover {\n",
              "      background-color: #E2EBFA;\n",
              "      box-shadow: 0px 1px 2px rgba(60, 64, 67, 0.3), 0px 1px 3px 1px rgba(60, 64, 67, 0.15);\n",
              "      fill: #174EA6;\n",
              "    }\n",
              "\n",
              "    [theme=dark] .colab-df-convert {\n",
              "      background-color: #3B4455;\n",
              "      fill: #D2E3FC;\n",
              "    }\n",
              "\n",
              "    [theme=dark] .colab-df-convert:hover {\n",
              "      background-color: #434B5C;\n",
              "      box-shadow: 0px 1px 3px 1px rgba(0, 0, 0, 0.15);\n",
              "      filter: drop-shadow(0px 1px 2px rgba(0, 0, 0, 0.3));\n",
              "      fill: #FFFFFF;\n",
              "    }\n",
              "  </style>\n",
              "\n",
              "      <script>\n",
              "        const buttonEl =\n",
              "          document.querySelector('#df-fa7828b9-735a-408c-907e-426d97728dd2 button.colab-df-convert');\n",
              "        buttonEl.style.display =\n",
              "          google.colab.kernel.accessAllowed ? 'block' : 'none';\n",
              "\n",
              "        async function convertToInteractive(key) {\n",
              "          const element = document.querySelector('#df-fa7828b9-735a-408c-907e-426d97728dd2');\n",
              "          const dataTable =\n",
              "            await google.colab.kernel.invokeFunction('convertToInteractive',\n",
              "                                                     [key], {});\n",
              "          if (!dataTable) return;\n",
              "\n",
              "          const docLinkHtml = 'Like what you see? Visit the ' +\n",
              "            '<a target=\"_blank\" href=https://colab.research.google.com/notebooks/data_table.ipynb>data table notebook</a>'\n",
              "            + ' to learn more about interactive tables.';\n",
              "          element.innerHTML = '';\n",
              "          dataTable['output_type'] = 'display_data';\n",
              "          await google.colab.output.renderOutput(dataTable, element);\n",
              "          const docLink = document.createElement('div');\n",
              "          docLink.innerHTML = docLinkHtml;\n",
              "          element.appendChild(docLink);\n",
              "        }\n",
              "      </script>\n",
              "    </div>\n",
              "  </div>\n",
              "  "
            ]
          },
          "metadata": {},
          "execution_count": 5
        }
      ],
      "source": [
        "data.head()"
      ]
    },
    {
      "cell_type": "code",
      "execution_count": 6,
      "metadata": {
        "colab": {
          "base_uri": "https://localhost:8080/",
          "height": 356
        },
        "id": "_GXAciKIQ1dS",
        "outputId": "c2d26e42-9a32-4c57-b5a1-c0928ab86efb"
      },
      "outputs": [
        {
          "output_type": "execute_result",
          "data": {
            "text/plain": [
              "Text(0.5, 1.0, 'AAPL Close Price')"
            ]
          },
          "metadata": {},
          "execution_count": 6
        },
        {
          "output_type": "display_data",
          "data": {
            "text/plain": [
              "<Figure size 1080x360 with 1 Axes>"
            ],
            "image/png": "[encoded data removed]"
          },
          "metadata": {
            "needs_background": "light"
          }
        }
      ],
      "source": [
        "dates = data['Date'].values\n",
        "close = data['Close'].values\n",
        "\n",
        "plt.figure(figsize=(15,5))\n",
        "plt.plot(dates, close)\n",
        "plt.title('AAPL Close Price', fontsize=15)"
      ]
    },
    {
      "cell_type": "code",
      "execution_count": 7,
      "metadata": {
        "id": "Dr1Lbz0X8FCX"
      },
      "outputs": [],
      "source": [
        "from sklearn.preprocessing import MinMaxScaler\n",
        "scaler = MinMaxScaler(feature_range = (0,1))\n",
        "scaled_close = scaler.fit_transform(close.reshape(-1,1))"
      ]
    },
    {
      "cell_type": "code",
      "source": [
        "sc_close = scaled_close.reshape(-1)"
      ],
      "metadata": {
        "id": "WN-krr8uo4xC"
      },
      "execution_count": 8,
      "outputs": []
    },
    {
      "cell_type": "code",
      "source": [
        "from sklearn.model_selection import train_test_split\n",
        "\n",
        "dates_train, dates_test, close_train, close_test = train_test_split(dates, sc_close, test_size=0.2, shuffle=False)"
      ],
      "metadata": {
        "id": "lyqzuo1Y8XwB"
      },
      "execution_count": 9,
      "outputs": []
    },
    {
      "cell_type": "code",
      "execution_count": 10,
      "metadata": {
        "id": "JfbqqQt-fF3d"
      },
      "outputs": [],
      "source": [
        "def windowed_dataset(series, window_size, batch_size, shuffle_buffer):\n",
        "    series = tf.expand_dims(series, axis=-1)\n",
        "    ds = tf.data.Dataset.from_tensor_slices(series)\n",
        "    ds = ds.window(window_size + 1, shift=1, drop_remainder=True)\n",
        "    ds = ds.flat_map(lambda w: w.batch(window_size + 1))\n",
        "    ds = ds.shuffle(shuffle_buffer)\n",
        "    ds = ds.map(lambda w: (w[:-1], w[-1:]))\n",
        "    return ds.batch(batch_size).prefetch(1)"
      ]
    },
    {
      "cell_type": "code",
      "execution_count": 11,
      "metadata": {
        "id": "3yH_JAQ8fQmZ"
      },
      "outputs": [],
      "source": [
        "train_set = windowed_dataset(close_train, window_size=60, batch_size=100, shuffle_buffer=1000)\n",
        "test_set = windowed_dataset(close_test, window_size=60, batch_size=100, shuffle_buffer=1000)\n",
        "\n",
        "model = tf.keras.models.Sequential([\n",
        "  tf.keras.layers.Bidirectional(tf.keras.layers.LSTM(60, input_shape=[None,1], return_sequences=True)),\n",
        "  tf.keras.layers.Bidirectional(tf.keras.layers.LSTM(60)),\n",
        "  # tf.keras.layers.LSTM(60, input_shape=[None,1], return_sequences=True),\n",
        "  # tf.keras.layers.LSTM(60),\n",
        "  tf.keras.layers.Dropout(0.5),\n",
        "  tf.keras.layers.Dense(30, activation=\"relu\"),\n",
        "  tf.keras.layers.Dense(10, activation=\"relu\"),\n",
        "  tf.keras.layers.Dense(1)\n",
        "])"
      ]
    },
    {
      "cell_type": "code",
      "source": [
        "threshold_mae = (data['Close'].max() - data['Close'].min()) * 10/100\n",
        "print(threshold_mae)"
      ],
      "metadata": {
        "colab": {
          "base_uri": "https://localhost:8080/"
        },
        "id": "hchX35_iA7Py",
        "outputId": "aa8f01a3-7c49-4a28-dfa4-f07d30340766"
      },
      "execution_count": 12,
      "outputs": [
        {
          "output_type": "stream",
          "name": "stdout",
          "text": [
            "18.196088800000002\n"
          ]
        }
      ]
    },
    {
      "cell_type": "code",
      "execution_count": 13,
      "metadata": {
        "colab": {
          "base_uri": "https://localhost:8080/"
        },
        "id": "gpeHD1ATflGT",
        "outputId": "28dc3942-d27e-4161-c56c-1477eb5f1474"
      },
      "outputs": [
        {
          "output_type": "stream",
          "name": "stdout",
          "text": [
            "Epoch 1/100\n",
            "83/83 [==============================] - 13s 51ms/step - loss: 1.5814e-04 - mae: 0.0082 - val_loss: 0.0551 - val_mae: 0.2453\n",
            "Epoch 2/100\n",
            "83/83 [==============================] - 2s 28ms/step - loss: 2.4658e-04 - mae: 0.0136 - val_loss: 0.0647 - val_mae: 0.2704\n",
            "Epoch 3/100\n",
            "83/83 [==============================] - 3s 28ms/step - loss: 1.2957e-04 - mae: 0.0112 - val_loss: 0.0489 - val_mae: 0.2277\n",
            "Epoch 4/100\n",
            "83/83 [==============================] - 3s 29ms/step - loss: 3.3646e-05 - mae: 0.0062 - val_loss: 0.0302 - val_mae: 0.1629\n",
            "Epoch 5/100\n",
            "83/83 [==============================] - 3s 29ms/step - loss: 2.0853e-05 - mae: 0.0048 - val_loss: 0.0274 - val_mae: 0.1553\n",
            "Epoch 6/100\n",
            "83/83 [==============================] - 2s 28ms/step - loss: 1.5612e-05 - mae: 0.0040 - val_loss: 0.0246 - val_mae: 0.1454\n",
            "Epoch 7/100\n",
            "83/83 [==============================] - 3s 29ms/step - loss: 1.2710e-05 - mae: 0.0036 - val_loss: 0.0231 - val_mae: 0.1415\n",
            "Epoch 8/100\n",
            "83/83 [==============================] - 3s 29ms/step - loss: 1.0613e-05 - mae: 0.0032 - val_loss: 0.0217 - val_mae: 0.1354\n",
            "Epoch 9/100\n",
            "83/83 [==============================] - 3s 29ms/step - loss: 9.2148e-06 - mae: 0.0028 - val_loss: 0.0197 - val_mae: 0.1279\n",
            "Epoch 10/100\n",
            "83/83 [==============================] - 3s 28ms/step - loss: 9.1104e-06 - mae: 0.0027 - val_loss: 0.0177 - val_mae: 0.1199\n",
            "Epoch 11/100\n",
            "83/83 [==============================] - 3s 29ms/step - loss: 8.2539e-06 - mae: 0.0027 - val_loss: 0.0166 - val_mae: 0.1139\n",
            "Epoch 12/100\n",
            "83/83 [==============================] - 3s 29ms/step - loss: 7.3124e-06 - mae: 0.0024 - val_loss: 0.0156 - val_mae: 0.1095\n",
            "Epoch 13/100\n",
            "83/83 [==============================] - 3s 29ms/step - loss: 7.2650e-06 - mae: 0.0023 - val_loss: 0.0172 - val_mae: 0.1201\n",
            "Epoch 14/100\n",
            "83/83 [==============================] - 3s 28ms/step - loss: 7.8721e-06 - mae: 0.0024 - val_loss: 0.0175 - val_mae: 0.1217\n",
            "Epoch 15/100\n",
            "83/83 [==============================] - 2s 28ms/step - loss: 6.0152e-06 - mae: 0.0022 - val_loss: 0.0142 - val_mae: 0.1011\n",
            "Epoch 16/100\n",
            "83/83 [==============================] - 3s 29ms/step - loss: 6.2735e-06 - mae: 0.0023 - val_loss: 0.0134 - val_mae: 0.0989\n",
            "Epoch 17/100\n",
            "83/83 [==============================] - 2s 28ms/step - loss: 6.5737e-06 - mae: 0.0023 - val_loss: 0.0139 - val_mae: 0.1009\n",
            "Epoch 18/100\n",
            "83/83 [==============================] - 3s 28ms/step - loss: 5.7795e-06 - mae: 0.0021 - val_loss: 0.0118 - val_mae: 0.0860\n",
            "Epoch 19/100\n",
            "83/83 [==============================] - 3s 29ms/step - loss: 5.9436e-06 - mae: 0.0021 - val_loss: 0.0108 - val_mae: 0.0801\n",
            "Epoch 20/100\n",
            "83/83 [==============================] - 3s 29ms/step - loss: 5.6746e-06 - mae: 0.0021 - val_loss: 0.0108 - val_mae: 0.0773\n",
            "Epoch 21/100\n",
            "83/83 [==============================] - 3s 29ms/step - loss: 5.5130e-06 - mae: 0.0022 - val_loss: 0.0114 - val_mae: 0.0811\n",
            "Epoch 22/100\n",
            "83/83 [==============================] - 3s 29ms/step - loss: 5.1644e-06 - mae: 0.0020 - val_loss: 0.0105 - val_mae: 0.0742\n",
            "Epoch 23/100\n",
            "83/83 [==============================] - 2s 28ms/step - loss: 4.6026e-06 - mae: 0.0019 - val_loss: 0.0109 - val_mae: 0.0774\n",
            "Epoch 24/100\n",
            "83/83 [==============================] - 2s 28ms/step - loss: 4.9435e-06 - mae: 0.0020 - val_loss: 0.0102 - val_mae: 0.0827\n",
            "Epoch 25/100\n",
            "83/83 [==============================] - 3s 28ms/step - loss: 3.9734e-06 - mae: 0.0017 - val_loss: 0.0105 - val_mae: 0.0815\n",
            "Epoch 26/100\n",
            "83/83 [==============================] - 2s 28ms/step - loss: 4.5080e-06 - mae: 0.0019 - val_loss: 0.0102 - val_mae: 0.0881\n",
            "Epoch 27/100\n",
            "83/83 [==============================] - 3s 29ms/step - loss: 6.1251e-06 - mae: 0.0024 - val_loss: 0.0089 - val_mae: 0.0833\n",
            "Epoch 28/100\n",
            "83/83 [==============================] - 3s 28ms/step - loss: 4.6872e-06 - mae: 0.0020 - val_loss: 0.0100 - val_mae: 0.0902\n",
            "Epoch 29/100\n",
            "83/83 [==============================] - 3s 29ms/step - loss: 6.6967e-06 - mae: 0.0021 - val_loss: 0.0083 - val_mae: 0.0714\n",
            "Epoch 30/100\n",
            "83/83 [==============================] - 3s 29ms/step - loss: 1.0341e-05 - mae: 0.0027 - val_loss: 0.0100 - val_mae: 0.0915\n",
            "Epoch 31/100\n",
            "83/83 [==============================] - 3s 28ms/step - loss: 6.2330e-06 - mae: 0.0025 - val_loss: 0.0069 - val_mae: 0.0654\n",
            "Epoch 32/100\n",
            "83/83 [==============================] - 3s 28ms/step - loss: 4.5690e-06 - mae: 0.0019 - val_loss: 0.0068 - val_mae: 0.0684\n",
            "Epoch 33/100\n",
            "83/83 [==============================] - 3s 29ms/step - loss: 4.4968e-06 - mae: 0.0019 - val_loss: 0.0076 - val_mae: 0.0694\n",
            "Epoch 34/100\n",
            "83/83 [==============================] - 3s 29ms/step - loss: 4.2571e-06 - mae: 0.0018 - val_loss: 0.0076 - val_mae: 0.0717\n",
            "Epoch 35/100\n",
            "83/83 [==============================] - 3s 29ms/step - loss: 3.9518e-06 - mae: 0.0017 - val_loss: 0.0069 - val_mae: 0.0699\n",
            "Epoch 36/100\n",
            "83/83 [==============================] - 3s 29ms/step - loss: 4.1125e-06 - mae: 0.0018 - val_loss: 0.0068 - val_mae: 0.0709\n",
            "Epoch 37/100\n",
            "83/83 [==============================] - 3s 29ms/step - loss: 4.6337e-06 - mae: 0.0020 - val_loss: 0.0072 - val_mae: 0.0669\n",
            "Epoch 38/100\n",
            "83/83 [==============================] - 3s 29ms/step - loss: 5.5466e-06 - mae: 0.0020 - val_loss: 0.0074 - val_mae: 0.0733\n",
            "Epoch 39/100\n",
            "83/83 [==============================] - 2s 28ms/step - loss: 4.7433e-06 - mae: 0.0020 - val_loss: 0.0067 - val_mae: 0.0661\n",
            "Epoch 40/100\n",
            "83/83 [==============================] - 3s 28ms/step - loss: 4.5773e-06 - mae: 0.0020 - val_loss: 0.0066 - val_mae: 0.0695\n",
            "Epoch 41/100\n",
            "83/83 [==============================] - 2s 28ms/step - loss: 4.3309e-06 - mae: 0.0019 - val_loss: 0.0066 - val_mae: 0.0642\n",
            "Epoch 42/100\n",
            "83/83 [==============================] - 2s 28ms/step - loss: 4.1470e-06 - mae: 0.0018 - val_loss: 0.0070 - val_mae: 0.0704\n",
            "Epoch 43/100\n",
            "83/83 [==============================] - 3s 29ms/step - loss: 3.9641e-06 - mae: 0.0018 - val_loss: 0.0066 - val_mae: 0.0674\n",
            "Epoch 44/100\n",
            "83/83 [==============================] - 3s 29ms/step - loss: 4.0102e-06 - mae: 0.0018 - val_loss: 0.0072 - val_mae: 0.0777\n",
            "Epoch 45/100\n",
            "83/83 [==============================] - 2s 28ms/step - loss: 4.3836e-06 - mae: 0.0020 - val_loss: 0.0078 - val_mae: 0.0799\n",
            "Epoch 46/100\n",
            "83/83 [==============================] - 3s 29ms/step - loss: 4.0591e-06 - mae: 0.0019 - val_loss: 0.0078 - val_mae: 0.0818\n",
            "Epoch 47/100\n",
            "83/83 [==============================] - 3s 29ms/step - loss: 3.4083e-06 - mae: 0.0017 - val_loss: 0.0079 - val_mae: 0.0768\n",
            "Epoch 48/100\n",
            "83/83 [==============================] - 3s 28ms/step - loss: 3.5669e-06 - mae: 0.0017 - val_loss: 0.0089 - val_mae: 0.0893\n",
            "Epoch 49/100\n",
            "83/83 [==============================] - 3s 29ms/step - loss: 3.8841e-06 - mae: 0.0017 - val_loss: 0.0077 - val_mae: 0.0725\n",
            "Epoch 50/100\n",
            "83/83 [==============================] - 3s 29ms/step - loss: 3.6636e-06 - mae: 0.0018 - val_loss: 0.0076 - val_mae: 0.0725\n",
            "Epoch 51/100\n",
            "83/83 [==============================] - 2s 28ms/step - loss: 3.7227e-06 - mae: 0.0018 - val_loss: 0.0077 - val_mae: 0.0705\n",
            "Epoch 52/100\n",
            "83/83 [==============================] - 3s 29ms/step - loss: 5.2636e-06 - mae: 0.0020 - val_loss: 0.0089 - val_mae: 0.0958\n",
            "Epoch 53/100\n",
            "83/83 [==============================] - 3s 29ms/step - loss: 8.7138e-06 - mae: 0.0025 - val_loss: 0.0061 - val_mae: 0.0653\n",
            "Epoch 54/100\n",
            "83/83 [==============================] - 3s 28ms/step - loss: 1.4302e-05 - mae: 0.0034 - val_loss: 0.0103 - val_mae: 0.1043\n",
            "Epoch 55/100\n",
            "83/83 [==============================] - 3s 29ms/step - loss: 8.9286e-06 - mae: 0.0030 - val_loss: 0.0070 - val_mae: 0.0760\n",
            "Epoch 56/100\n",
            "83/83 [==============================] - 3s 29ms/step - loss: 4.6942e-06 - mae: 0.0021 - val_loss: 0.0048 - val_mae: 0.0519\n",
            "Epoch 57/100\n",
            "83/83 [==============================] - 3s 30ms/step - loss: 4.1295e-06 - mae: 0.0019 - val_loss: 0.0041 - val_mae: 0.0443\n",
            "Epoch 58/100\n",
            "83/83 [==============================] - 3s 29ms/step - loss: 3.6647e-06 - mae: 0.0018 - val_loss: 0.0045 - val_mae: 0.0478\n",
            "Epoch 59/100\n",
            "83/83 [==============================] - 3s 28ms/step - loss: 4.2759e-06 - mae: 0.0019 - val_loss: 0.0050 - val_mae: 0.0504\n",
            "Epoch 60/100\n",
            "83/83 [==============================] - 3s 29ms/step - loss: 3.3660e-06 - mae: 0.0016 - val_loss: 0.0050 - val_mae: 0.0523\n",
            "Epoch 61/100\n",
            "83/83 [==============================] - 3s 29ms/step - loss: 3.5003e-06 - mae: 0.0018 - val_loss: 0.0050 - val_mae: 0.0554\n",
            "Epoch 62/100\n",
            "83/83 [==============================] - 3s 29ms/step - loss: 3.8856e-06 - mae: 0.0020 - val_loss: 0.0050 - val_mae: 0.0517\n",
            "Epoch 63/100\n",
            "83/83 [==============================] - 3s 30ms/step - loss: 5.2017e-06 - mae: 0.0020 - val_loss: 0.0059 - val_mae: 0.0581\n",
            "Epoch 64/100\n",
            "83/83 [==============================] - 3s 30ms/step - loss: 4.4557e-06 - mae: 0.0019 - val_loss: 0.0054 - val_mae: 0.0565\n",
            "Epoch 65/100\n",
            "83/83 [==============================] - 3s 28ms/step - loss: 4.2249e-06 - mae: 0.0020 - val_loss: 0.0053 - val_mae: 0.0586\n",
            "Epoch 66/100\n",
            "83/83 [==============================] - 3s 29ms/step - loss: 5.0923e-06 - mae: 0.0020 - val_loss: 0.0053 - val_mae: 0.0502\n",
            "Epoch 67/100\n",
            "83/83 [==============================] - 3s 29ms/step - loss: 4.7258e-06 - mae: 0.0021 - val_loss: 0.0041 - val_mae: 0.0484\n",
            "Epoch 68/100\n",
            "83/83 [==============================] - 2s 28ms/step - loss: 4.9909e-06 - mae: 0.0022 - val_loss: 0.0045 - val_mae: 0.0460\n",
            "Epoch 69/100\n",
            "83/83 [==============================] - 2s 28ms/step - loss: 4.4520e-06 - mae: 0.0020 - val_loss: 0.0046 - val_mae: 0.0468\n",
            "Epoch 70/100\n",
            "83/83 [==============================] - 3s 29ms/step - loss: 5.7977e-06 - mae: 0.0022 - val_loss: 0.0045 - val_mae: 0.0456\n",
            "Epoch 71/100\n",
            "83/83 [==============================] - 3s 29ms/step - loss: 5.0496e-06 - mae: 0.0021 - val_loss: 0.0051 - val_mae: 0.0512\n",
            "Epoch 72/100\n",
            "83/83 [==============================] - 3s 28ms/step - loss: 4.3948e-06 - mae: 0.0019 - val_loss: 0.0044 - val_mae: 0.0455\n",
            "Epoch 73/100\n",
            "83/83 [==============================] - 2s 28ms/step - loss: 4.2511e-06 - mae: 0.0019 - val_loss: 0.0048 - val_mae: 0.0461\n",
            "Epoch 74/100\n",
            "83/83 [==============================] - 3s 29ms/step - loss: 3.6416e-06 - mae: 0.0018 - val_loss: 0.0044 - val_mae: 0.0450\n",
            "Epoch 75/100\n",
            "83/83 [==============================] - 2s 28ms/step - loss: 3.5145e-06 - mae: 0.0018 - val_loss: 0.0047 - val_mae: 0.0461\n",
            "Epoch 76/100\n",
            "83/83 [==============================] - 2s 28ms/step - loss: 3.4800e-06 - mae: 0.0017 - val_loss: 0.0049 - val_mae: 0.0486\n",
            "Epoch 77/100\n",
            "83/83 [==============================] - 3s 28ms/step - loss: 3.3075e-06 - mae: 0.0017 - val_loss: 0.0051 - val_mae: 0.0503\n",
            "Epoch 78/100\n",
            "83/83 [==============================] - 3s 28ms/step - loss: 3.2945e-06 - mae: 0.0016 - val_loss: 0.0050 - val_mae: 0.0509\n",
            "Epoch 79/100\n",
            "83/83 [==============================] - 3s 28ms/step - loss: 3.0648e-06 - mae: 0.0016 - val_loss: 0.0052 - val_mae: 0.0496\n",
            "Epoch 80/100\n",
            "83/83 [==============================] - 2s 28ms/step - loss: 3.7828e-06 - mae: 0.0018 - val_loss: 0.0053 - val_mae: 0.0512\n",
            "Epoch 81/100\n",
            "83/83 [==============================] - 3s 29ms/step - loss: 5.6990e-06 - mae: 0.0022 - val_loss: 0.0056 - val_mae: 0.0515\n",
            "Epoch 82/100\n",
            "83/83 [==============================] - 3s 28ms/step - loss: 5.7424e-06 - mae: 0.0022 - val_loss: 0.0056 - val_mae: 0.0510\n",
            "Epoch 83/100\n",
            "83/83 [==============================] - 2s 28ms/step - loss: 5.3578e-06 - mae: 0.0021 - val_loss: 0.0062 - val_mae: 0.0610\n",
            "Epoch 84/100\n",
            "83/83 [==============================] - 2s 28ms/step - loss: 4.8763e-06 - mae: 0.0020 - val_loss: 0.0061 - val_mae: 0.0618\n",
            "Epoch 85/100\n",
            "83/83 [==============================] - 3s 29ms/step - loss: 4.5211e-06 - mae: 0.0021 - val_loss: 0.0060 - val_mae: 0.0562\n",
            "Epoch 86/100\n",
            "83/83 [==============================] - 3s 30ms/step - loss: 4.3780e-06 - mae: 0.0019 - val_loss: 0.0066 - val_mae: 0.0616\n",
            "Epoch 87/100\n",
            "83/83 [==============================] - 3s 29ms/step - loss: 4.8462e-06 - mae: 0.0020 - val_loss: 0.0058 - val_mae: 0.0579\n",
            "Epoch 88/100\n",
            "83/83 [==============================] - 2s 28ms/step - loss: 4.8368e-06 - mae: 0.0020 - val_loss: 0.0055 - val_mae: 0.0515\n",
            "Epoch 89/100\n",
            "83/83 [==============================] - 2s 28ms/step - loss: 3.4398e-06 - mae: 0.0017 - val_loss: 0.0060 - val_mae: 0.0593\n",
            "Epoch 90/100\n",
            "83/83 [==============================] - 3s 29ms/step - loss: 3.0749e-06 - mae: 0.0017 - val_loss: 0.0058 - val_mae: 0.0566\n",
            "Epoch 91/100\n",
            "83/83 [==============================] - 3s 28ms/step - loss: 3.4766e-06 - mae: 0.0017 - val_loss: 0.0057 - val_mae: 0.0526\n",
            "Epoch 92/100\n",
            "83/83 [==============================] - 2s 28ms/step - loss: 4.2717e-06 - mae: 0.0019 - val_loss: 0.0056 - val_mae: 0.0532\n",
            "Epoch 93/100\n",
            "83/83 [==============================] - 3s 29ms/step - loss: 4.9349e-06 - mae: 0.0020 - val_loss: 0.0068 - val_mae: 0.0714\n",
            "Epoch 94/100\n",
            "83/83 [==============================] - 3s 29ms/step - loss: 5.0918e-06 - mae: 0.0021 - val_loss: 0.0066 - val_mae: 0.0668\n",
            "Epoch 95/100\n",
            "83/83 [==============================] - 3s 28ms/step - loss: 4.1767e-06 - mae: 0.0020 - val_loss: 0.0065 - val_mae: 0.0642\n",
            "Epoch 96/100\n",
            "83/83 [==============================] - 2s 28ms/step - loss: 3.7486e-06 - mae: 0.0018 - val_loss: 0.0057 - val_mae: 0.0564\n",
            "Epoch 97/100\n",
            "83/83 [==============================] - 3s 29ms/step - loss: 3.3680e-06 - mae: 0.0017 - val_loss: 0.0062 - val_mae: 0.0616\n",
            "Epoch 98/100\n",
            "83/83 [==============================] - 2s 28ms/step - loss: 3.0998e-06 - mae: 0.0017 - val_loss: 0.0060 - val_mae: 0.0589\n",
            "Epoch 99/100\n",
            "83/83 [==============================] - 2s 28ms/step - loss: 2.9763e-06 - mae: 0.0016 - val_loss: 0.0066 - val_mae: 0.0640\n",
            "Epoch 100/100\n",
            "83/83 [==============================] - 2s 28ms/step - loss: 4.1113e-06 - mae: 0.0018 - val_loss: 0.0067 - val_mae: 0.0650\n"
          ]
        }
      ],
      "source": [
        "optimizer = tf.keras.optimizers.Adam(learning_rate=1e-3)#, momentum=0.9)\n",
        "model.compile(loss=tf.keras.losses.Huber(),\n",
        "                  optimizer=optimizer,\n",
        "                  metrics=[\"mae\"])\n",
        "history = model.fit(train_set, epochs=100, validation_data=test_set)"
      ]
    },
    {
      "cell_type": "code",
      "execution_count": 17,
      "metadata": {
        "colab": {
          "base_uri": "https://localhost:8080/",
          "height": 295
        },
        "id": "bo0xeI905XH6",
        "outputId": "113426cd-ffda-46dc-89cc-ab8ea09ece21"
      },
      "outputs": [
        {
          "output_type": "display_data",
          "data": {
            "text/plain": [
              "<Figure size 432x288 with 1 Axes>"
            ],
            "image/png": "[encoded data removed]"
          },
          "metadata": {
            "needs_background": "light"
          }
        }
      ],
      "source": [
        "# Plot Loss\n",
        "plt.plot(history.history['loss'])\n",
        "plt.plot(history.history['val_loss'])\n",
        "plt.title('Loss Model')\n",
        "plt.ylabel('loss')\n",
        "plt.xlabel('epoch')\n",
        "plt.legend(['Train', 'Val'], loc='upper left')\n",
        "plt.show()"
      ]
    },
    {
      "cell_type": "code",
      "source": [
        "# Plot Mae\n",
        "plt.plot(history.history['mae'])\n",
        "plt.plot(history.history['val_mae'])\n",
        "plt.title('MAE Model')\n",
        "plt.ylabel('mae')\n",
        "plt.xlabel('epoch')\n",
        "plt.legend(['Train', 'Val'], loc='upper left')\n",
        "plt.show()"
      ],
      "metadata": {
        "colab": {
          "base_uri": "https://localhost:8080/",
          "height": 295
        },
        "id": "x6Qa0JmaiN8P",
        "outputId": "97300d6f-0a9f-4aee-897e-ee6068c34206"
      },
      "execution_count": 16,
      "outputs": [
        {
          "output_type": "display_data",
          "data": {
            "text/plain": [
              "<Figure size 432x288 with 1 Axes>"
            ],
            "image/png": "[encoded data removed]"
          },
          "metadata": {
            "needs_background": "light"
          }
        }
      ]
    }
  ],
  "metadata": {
    "accelerator": "GPU",
    "colab": {
      "collapsed_sections": [],
      "provenance": []
    },
    "kernelspec": {
      "display_name": "Python 3",
      "name": "python3"
    },
    "language_info": {
      "name": "python"
    }
  },
  "nbformat": 4,
  "nbformat_minor": 0
}