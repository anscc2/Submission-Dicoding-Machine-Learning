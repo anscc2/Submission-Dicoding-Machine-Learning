{
  "cells": [
    {
      "cell_type": "markdown",
      "source": [
        "Andi Nur Salsabila"
      ],
      "metadata": {
        "id": "dIgcgTz-wJKK"
      }
    },
    {
      "cell_type": "code",
      "execution_count": 12,
      "metadata": {
        "id": "vP1kGJ5W2kXt"
      },
      "outputs": [],
      "source": [
        "import pandas as pd\n",
        "import os"
      ]
    },
    {
      "cell_type": "code",
      "execution_count": 13,
      "metadata": {
        "colab": {
          "base_uri": "https://localhost:8080/"
        },
        "id": "TdDFvFIk3d-3",
        "outputId": "cf8fe66a-74a5-476a-8865-b4a170aa364f"
      },
      "outputs": [
        {
          "output_type": "stream",
          "name": "stdout",
          "text": [
            "ecommerce-text-classification.zip: Skipping, found more recently modified local copy (use --force to force download)\n"
          ]
        }
      ],
      "source": [
        "# mengakses kaggle\n",
        "os.environ['KAGGLE_USERNAME'] = \"andinursalsabila\"\n",
        "os.environ['KAGGLE_KEY'] = \"32050edd6e02f12f21dd3a78eaaba64e\"\n",
        "\n",
        "# copy API command dataset untuk mendownloadnya\n",
        "!kaggle datasets download -d saurabhshahane/ecommerce-text-classification"
      ]
    },
    {
      "cell_type": "code",
      "execution_count": null,
      "metadata": {
        "id": "oK4EJxLf4Ch4"
      },
      "outputs": [],
      "source": [
        "# unzip dataset yang telah didownload\n",
        "!unzip -q /content/ecommerce-text-classification.zip"
      ]
    },
    {
      "cell_type": "code",
      "execution_count": null,
      "metadata": {
        "id": "W98wNh7T4XiS"
      },
      "outputs": [],
      "source": [
        "data = pd.read_csv('ecommerceDataset.csv', names=['label', 'sentence'])\n",
        "data.dropna(inplace=True)"
      ]
    },
    {
      "cell_type": "code",
      "execution_count": null,
      "metadata": {
        "colab": {
          "base_uri": "https://localhost:8080/"
        },
        "id": "PefgcJUr9LBN",
        "outputId": "b8450c71-b5f5-40fe-cbbc-89f09f847f66"
      },
      "outputs": [
        {
          "data": {
            "text/plain": [
              "label       0\n",
              "sentence    0\n",
              "dtype: int64"
            ]
          },
          "execution_count": 3,
          "metadata": {},
          "output_type": "execute_result"
        }
      ],
      "source": [
        "data.isnull().sum()"
      ]
    },
    {
      "cell_type": "code",
      "execution_count": null,
      "metadata": {
        "colab": {
          "base_uri": "https://localhost:8080/",
          "height": 424
        },
        "id": "RoK5osjL4eC3",
        "outputId": "c975fe08-ef85-46f4-96e0-e8e481800154"
      },
      "outputs": [
        {
          "data": {
            "text/html": [
              "\n",
              "  <div id=\"df-65817324-a2e9-4ab9-948a-19085793cec0\">\n",
              "    <div class=\"colab-df-container\">\n",
              "      <div>\n",
              "<style scoped>\n",
              "    .dataframe tbody tr th:only-of-type {\n",
              "        vertical-align: middle;\n",
              "    }\n",
              "\n",
              "    .dataframe tbody tr th {\n",
              "        vertical-align: top;\n",
              "    }\n",
              "\n",
              "    .dataframe thead th {\n",
              "        text-align: right;\n",
              "    }\n",
              "</style>\n",
              "<table border=\"1\" class=\"dataframe\">\n",
              "  <thead>\n",
              "    <tr style=\"text-align: right;\">\n",
              "      <th></th>\n",
              "      <th>sentence</th>\n",
              "      <th>Books</th>\n",
              "      <th>Clothing &amp; Accessories</th>\n",
              "      <th>Electronics</th>\n",
              "      <th>Household</th>\n",
              "    </tr>\n",
              "  </thead>\n",
              "  <tbody>\n",
              "    <tr>\n",
              "      <th>0</th>\n",
              "      <td>Paper Plane Design Framed Wall Hanging Motivat...</td>\n",
              "      <td>0</td>\n",
              "      <td>0</td>\n",
              "      <td>0</td>\n",
              "      <td>1</td>\n",
              "    </tr>\n",
              "    <tr>\n",
              "      <th>1</th>\n",
              "      <td>SAF 'Floral' Framed Painting (Wood, 30 inch x ...</td>\n",
              "      <td>0</td>\n",
              "      <td>0</td>\n",
              "      <td>0</td>\n",
              "      <td>1</td>\n",
              "    </tr>\n",
              "    <tr>\n",
              "      <th>2</th>\n",
              "      <td>SAF 'UV Textured Modern Art Print Framed' Pain...</td>\n",
              "      <td>0</td>\n",
              "      <td>0</td>\n",
              "      <td>0</td>\n",
              "      <td>1</td>\n",
              "    </tr>\n",
              "    <tr>\n",
              "      <th>3</th>\n",
              "      <td>SAF Flower Print Framed Painting (Synthetic, 1...</td>\n",
              "      <td>0</td>\n",
              "      <td>0</td>\n",
              "      <td>0</td>\n",
              "      <td>1</td>\n",
              "    </tr>\n",
              "    <tr>\n",
              "      <th>4</th>\n",
              "      <td>Incredible Gifts India Wooden Happy Birthday U...</td>\n",
              "      <td>0</td>\n",
              "      <td>0</td>\n",
              "      <td>0</td>\n",
              "      <td>1</td>\n",
              "    </tr>\n",
              "    <tr>\n",
              "      <th>...</th>\n",
              "      <td>...</td>\n",
              "      <td>...</td>\n",
              "      <td>...</td>\n",
              "      <td>...</td>\n",
              "      <td>...</td>\n",
              "    </tr>\n",
              "    <tr>\n",
              "      <th>50420</th>\n",
              "      <td>Strontium MicroSD Class 10 8GB Memory Card (Bl...</td>\n",
              "      <td>0</td>\n",
              "      <td>0</td>\n",
              "      <td>1</td>\n",
              "      <td>0</td>\n",
              "    </tr>\n",
              "    <tr>\n",
              "      <th>50421</th>\n",
              "      <td>CrossBeats Wave Waterproof Bluetooth Wireless ...</td>\n",
              "      <td>0</td>\n",
              "      <td>0</td>\n",
              "      <td>1</td>\n",
              "      <td>0</td>\n",
              "    </tr>\n",
              "    <tr>\n",
              "      <th>50422</th>\n",
              "      <td>Karbonn Titanium Wind W4 (White) Karbonn Titan...</td>\n",
              "      <td>0</td>\n",
              "      <td>0</td>\n",
              "      <td>1</td>\n",
              "      <td>0</td>\n",
              "    </tr>\n",
              "    <tr>\n",
              "      <th>50423</th>\n",
              "      <td>Samsung Guru FM Plus (SM-B110E/D, Black) Colou...</td>\n",
              "      <td>0</td>\n",
              "      <td>0</td>\n",
              "      <td>1</td>\n",
              "      <td>0</td>\n",
              "    </tr>\n",
              "    <tr>\n",
              "      <th>50424</th>\n",
              "      <td>Micromax Canvas Win W121 (White)</td>\n",
              "      <td>0</td>\n",
              "      <td>0</td>\n",
              "      <td>1</td>\n",
              "      <td>0</td>\n",
              "    </tr>\n",
              "  </tbody>\n",
              "</table>\n",
              "<p>50424 rows × 5 columns</p>\n",
              "</div>\n",
              "      <button class=\"colab-df-convert\" onclick=\"convertToInteractive('df-65817324-a2e9-4ab9-948a-19085793cec0')\"\n",
              "              title=\"Convert this dataframe to an interactive table.\"\n",
              "              style=\"display:none;\">\n",
              "        \n",
              "  <svg xmlns=\"http://www.w3.org/2000/svg\" height=\"24px\"viewBox=\"0 0 24 24\"\n",
              "       width=\"24px\">\n",
              "    <path d=\"M0 0h24v24H0V0z\" fill=\"none\"/>\n",
              "    <path d=\"M18.56 5.44l.94 2.06.94-2.06 2.06-.94-2.06-.94-.94-2.06-.94 2.06-2.06.94zm-11 1L8.5 8.5l.94-2.06 2.06-.94-2.06-.94L8.5 2.5l-.94 2.06-2.06.94zm10 10l.94 2.06.94-2.06 2.06-.94-2.06-.94-.94-2.06-.94 2.06-2.06.94z\"/><path d=\"M17.41 7.96l-1.37-1.37c-.4-.4-.92-.59-1.43-.59-.52 0-1.04.2-1.43.59L10.3 9.45l-7.72 7.72c-.78.78-.78 2.05 0 2.83L4 21.41c.39.39.9.59 1.41.59.51 0 1.02-.2 1.41-.59l7.78-7.78 2.81-2.81c.8-.78.8-2.07 0-2.86zM5.41 20L4 18.59l7.72-7.72 1.47 1.35L5.41 20z\"/>\n",
              "  </svg>\n",
              "      </button>\n",
              "      \n",
              "  <style>\n",
              "    .colab-df-container {\n",
              "      display:flex;\n",
              "      flex-wrap:wrap;\n",
              "      gap: 12px;\n",
              "    }\n",
              "\n",
              "    .colab-df-convert {\n",
              "      background-color: #E8F0FE;\n",
              "      border: none;\n",
              "      border-radius: 50%;\n",
              "      cursor: pointer;\n",
              "      display: none;\n",
              "      fill: #1967D2;\n",
              "      height: 32px;\n",
              "      padding: 0 0 0 0;\n",
              "      width: 32px;\n",
              "    }\n",
              "\n",
              "    .colab-df-convert:hover {\n",
              "      background-color: #E2EBFA;\n",
              "      box-shadow: 0px 1px 2px rgba(60, 64, 67, 0.3), 0px 1px 3px 1px rgba(60, 64, 67, 0.15);\n",
              "      fill: #174EA6;\n",
              "    }\n",
              "\n",
              "    [theme=dark] .colab-df-convert {\n",
              "      background-color: #3B4455;\n",
              "      fill: #D2E3FC;\n",
              "    }\n",
              "\n",
              "    [theme=dark] .colab-df-convert:hover {\n",
              "      background-color: #434B5C;\n",
              "      box-shadow: 0px 1px 3px 1px rgba(0, 0, 0, 0.15);\n",
              "      filter: drop-shadow(0px 1px 2px rgba(0, 0, 0, 0.3));\n",
              "      fill: #FFFFFF;\n",
              "    }\n",
              "  </style>\n",
              "\n",
              "      <script>\n",
              "        const buttonEl =\n",
              "          document.querySelector('#df-65817324-a2e9-4ab9-948a-19085793cec0 button.colab-df-convert');\n",
              "        buttonEl.style.display =\n",
              "          google.colab.kernel.accessAllowed ? 'block' : 'none';\n",
              "\n",
              "        async function convertToInteractive(key) {\n",
              "          const element = document.querySelector('#df-65817324-a2e9-4ab9-948a-19085793cec0');\n",
              "          const dataTable =\n",
              "            await google.colab.kernel.invokeFunction('convertToInteractive',\n",
              "                                                     [key], {});\n",
              "          if (!dataTable) return;\n",
              "\n",
              "          const docLinkHtml = 'Like what you see? Visit the ' +\n",
              "            '<a target=\"_blank\" href=https://colab.research.google.com/notebooks/data_table.ipynb>data table notebook</a>'\n",
              "            + ' to learn more about interactive tables.';\n",
              "          element.innerHTML = '';\n",
              "          dataTable['output_type'] = 'display_data';\n",
              "          await google.colab.output.renderOutput(dataTable, element);\n",
              "          const docLink = document.createElement('div');\n",
              "          docLink.innerHTML = docLinkHtml;\n",
              "          element.appendChild(docLink);\n",
              "        }\n",
              "      </script>\n",
              "    </div>\n",
              "  </div>\n",
              "  "
            ],
            "text/plain": [
              "                                                sentence  Books  \\\n",
              "0      Paper Plane Design Framed Wall Hanging Motivat...      0   \n",
              "1      SAF 'Floral' Framed Painting (Wood, 30 inch x ...      0   \n",
              "2      SAF 'UV Textured Modern Art Print Framed' Pain...      0   \n",
              "3      SAF Flower Print Framed Painting (Synthetic, 1...      0   \n",
              "4      Incredible Gifts India Wooden Happy Birthday U...      0   \n",
              "...                                                  ...    ...   \n",
              "50420  Strontium MicroSD Class 10 8GB Memory Card (Bl...      0   \n",
              "50421  CrossBeats Wave Waterproof Bluetooth Wireless ...      0   \n",
              "50422  Karbonn Titanium Wind W4 (White) Karbonn Titan...      0   \n",
              "50423  Samsung Guru FM Plus (SM-B110E/D, Black) Colou...      0   \n",
              "50424                   Micromax Canvas Win W121 (White)      0   \n",
              "\n",
              "       Clothing & Accessories  Electronics  Household  \n",
              "0                           0            0          1  \n",
              "1                           0            0          1  \n",
              "2                           0            0          1  \n",
              "3                           0            0          1  \n",
              "4                           0            0          1  \n",
              "...                       ...          ...        ...  \n",
              "50420                       0            1          0  \n",
              "50421                       0            1          0  \n",
              "50422                       0            1          0  \n",
              "50423                       0            1          0  \n",
              "50424                       0            1          0  \n",
              "\n",
              "[50424 rows x 5 columns]"
            ]
          },
          "execution_count": 5,
          "metadata": {},
          "output_type": "execute_result"
        }
      ],
      "source": [
        "category = pd.get_dummies(data.label)\n",
        "new_data = pd.concat([data, category], axis=1)\n",
        "new_data = new_data.drop(columns='label')\n",
        "new_data"
      ]
    },
    {
      "cell_type": "code",
      "execution_count": null,
      "metadata": {
        "id": "8se4W0LQ5vEW"
      },
      "outputs": [],
      "source": [
        "sentence = new_data['sentence'].values\n",
        "label = new_data[['Books', 'Clothing & Accessories', 'Electronics', 'Household']].values"
      ]
    },
    {
      "cell_type": "code",
      "execution_count": null,
      "metadata": {
        "id": "vWpe0wKZ6ZZY"
      },
      "outputs": [],
      "source": [
        "from sklearn.model_selection import train_test_split\n",
        "\n",
        "sentence_train, sentence_test, label_train, label_test = train_test_split(sentence, label, test_size=0.2)"
      ]
    },
    {
      "cell_type": "code",
      "execution_count": null,
      "metadata": {
        "id": "WcS3Uytt6s_O"
      },
      "outputs": [],
      "source": [
        "from tensorflow.keras.preprocessing.text import Tokenizer\n",
        "from tensorflow.keras.preprocessing.sequence import pad_sequences\n",
        "\n",
        "tokenizer = Tokenizer(num_words=5000, oov_token='-')\n",
        "tokenizer.fit_on_texts(sentence_train)\n",
        "tokenizer.fit_on_texts(sentence_test)\n",
        "\n",
        "seq_train = tokenizer.texts_to_sequences(sentence_train)\n",
        "seq_test = tokenizer.texts_to_sequences(sentence_test)\n",
        "\n",
        "padded_train = pad_sequences(seq_train)\n",
        "padded_test = pad_sequences(seq_test)"
      ]
    },
    {
      "cell_type": "code",
      "execution_count": null,
      "metadata": {
        "id": "pcqAIq3J-5XW"
      },
      "outputs": [],
      "source": [
        "import tensorflow as tf\n",
        "\n",
        "model = tf.keras.Sequential([\n",
        "    tf.keras.layers.Embedding(input_dim=5000, output_dim=16),\n",
        "    tf.keras.layers.LSTM(64),\n",
        "    tf.keras.layers.Dense(256, activation='relu'),\n",
        "    tf.keras.layers.Dense(128, activation='relu'),\n",
        "    tf.keras.layers.Dense(64, activation='relu'),\n",
        "    tf.keras.layers.Dense(4, activation='softmax')\n",
        "])\n",
        "model.compile(loss='categorical_crossentropy', optimizer='adam', metrics=['accuracy'])"
      ]
    },
    {
      "cell_type": "code",
      "execution_count": null,
      "metadata": {
        "colab": {
          "background_save": true,
          "base_uri": "https://localhost:8080/"
        },
        "id": "CyenUYJj_gdr",
        "outputId": "eb95adaa-c47e-4ac8-cce5-840a8c131220"
      },
      "outputs": [
        {
          "name": "stdout",
          "output_type": "stream",
          "text": [
            "Epoch 1/15\n",
            "1261/1261 - 303s - loss: 0.4818 - accuracy: 0.8271 - val_loss: 0.2477 - val_accuracy: 0.9314 - 303s/epoch - 240ms/step\n",
            "Epoch 2/15\n",
            "1261/1261 - 297s - loss: 0.2224 - accuracy: 0.9396 - val_loss: 0.1852 - val_accuracy: 0.9551 - 297s/epoch - 236ms/step\n",
            "Epoch 3/15\n",
            "1261/1261 - 301s - loss: 0.1728 - accuracy: 0.9574 - val_loss: 0.1770 - val_accuracy: 0.9582 - 301s/epoch - 238ms/step\n",
            "Epoch 4/15\n",
            "1261/1261 - 317s - loss: 0.1536 - accuracy: 0.9590 - val_loss: 0.1699 - val_accuracy: 0.9579 - 317s/epoch - 252ms/step\n",
            "Epoch 5/15\n",
            "1261/1261 - 306s - loss: 0.1476 - accuracy: 0.9611 - val_loss: 0.1805 - val_accuracy: 0.9574 - 306s/epoch - 242ms/step\n",
            "Epoch 6/15\n",
            "1261/1261 - 304s - loss: 0.1225 - accuracy: 0.9685 - val_loss: 0.1461 - val_accuracy: 0.9661 - 304s/epoch - 241ms/step\n",
            "Epoch 7/15\n",
            "1261/1261 - 300s - loss: 0.1089 - accuracy: 0.9722 - val_loss: 0.1546 - val_accuracy: 0.9619 - 300s/epoch - 238ms/step\n",
            "Epoch 8/15\n",
            "1261/1261 - 314s - loss: 0.1174 - accuracy: 0.9696 - val_loss: 0.1423 - val_accuracy: 0.9657 - 314s/epoch - 249ms/step\n",
            "Epoch 9/15\n",
            "1261/1261 - 309s - loss: 0.0764 - accuracy: 0.9796 - val_loss: 0.1455 - val_accuracy: 0.9652 - 309s/epoch - 245ms/step\n",
            "Epoch 10/15\n",
            "1261/1261 - 307s - loss: 0.0767 - accuracy: 0.9790 - val_loss: 0.1475 - val_accuracy: 0.9679 - 307s/epoch - 243ms/step\n",
            "Epoch 11/15\n",
            "1261/1261 - 307s - loss: 0.0978 - accuracy: 0.9715 - val_loss: 0.1354 - val_accuracy: 0.9694 - 307s/epoch - 243ms/step\n",
            "Epoch 12/15\n",
            "1261/1261 - 307s - loss: 0.0604 - accuracy: 0.9850 - val_loss: 0.1542 - val_accuracy: 0.9656 - 307s/epoch - 243ms/step\n",
            "Epoch 13/15\n",
            "1261/1261 - 318s - loss: 0.0534 - accuracy: 0.9856 - val_loss: 0.1676 - val_accuracy: 0.9680 - 318s/epoch - 252ms/step\n",
            "Epoch 14/15\n",
            "1261/1261 - 307s - loss: 0.0624 - accuracy: 0.9826 - val_loss: 0.1429 - val_accuracy: 0.9722 - 307s/epoch - 243ms/step\n",
            "Epoch 15/15\n",
            "1261/1261 - 306s - loss: 0.0631 - accuracy: 0.9828 - val_loss: 0.1346 - val_accuracy: 0.9720 - 306s/epoch - 243ms/step\n"
          ]
        }
      ],
      "source": [
        "num_epochs = 15\n",
        "history = model.fit(padded_train, label_train, epochs=num_epochs,\n",
        "                    validation_data=(padded_test, label_test), verbose=2)"
      ]
    },
    {
      "cell_type": "code",
      "execution_count": 16,
      "metadata": {
        "id": "vXEceH0mraQy",
        "colab": {
          "base_uri": "https://localhost:8080/",
          "height": 573
        },
        "outputId": "954c3977-ecd0-436d-d8e1-5ff7dadb79ef"
      },
      "outputs": [
        {
          "output_type": "display_data",
          "data": {
            "text/plain": [
              "<Figure size 432x288 with 1 Axes>"
            ],
            "image/png": "[encoded data removed]"
          },
          "metadata": {
            "needs_background": "light"
          }
        },
        {
          "output_type": "display_data",
          "data": {
            "text/plain": [
              "<Figure size 432x288 with 1 Axes>"
            ],
            "image/png": "[encoded data removed]"
          },
          "metadata": {
            "needs_background": "light"
          }
        }
      ],
      "source": [
        "import matplotlib.pyplot as plt\n",
        "\n",
        "plt.plot(history.history['accuracy'])\n",
        "plt.plot(history.history['val_accuracy'])\n",
        "\n",
        "plt.title('model accuracy')\n",
        "plt.ylabel('accuracy')\n",
        "plt.xlabel('epoch')\n",
        "plt.legend(['train','test'], loc='upper left')\n",
        "plt.show()\n",
        "\n",
        "plt.plot(history.history['loss'])\n",
        "plt.plot(history.history['val_loss'])\n",
        "\n",
        "plt.title('model loss')\n",
        "plt.ylabel('loss')\n",
        "plt.xlabel('epoch')\n",
        "plt.legend(['train','test'], loc='upper left')\n",
        "plt.show()"
      ]
    }
  ],
  "metadata": {
    "accelerator": "GPU",
    "colab": {
      "collapsed_sections": [],
      "provenance": []
    },
    "kernelspec": {
      "display_name": "Python 3",
      "name": "python3"
    },
    "language_info": {
      "name": "python"
    }
  },
  "nbformat": 4,
  "nbformat_minor": 0
}